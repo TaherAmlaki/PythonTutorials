{
 "cells": [
  {
   "cell_type": "code",
   "execution_count": 8,
   "id": "b1c0469d",
   "metadata": {},
   "outputs": [],
   "source": [
    "import re\n",
    "from collections import UserDict\n",
    "import json"
   ]
  },
  {
   "cell_type": "code",
   "execution_count": 23,
   "id": "98778153",
   "metadata": {},
   "outputs": [],
   "source": [
    "class NaiveDict:\n",
    "    def __init__(self, **kwargs):\n",
    "        self._data = dict(**kwargs)\n",
    "\n",
    "    def __setitem__(self, key, value):\n",
    "        print(f\"NaiveDict.__setitem__ called with key={key}, and value={value}\")\n",
    "        self._data[self.__convert_key(key)] = value\n",
    "\n",
    "    def __getitem__(self, key):\n",
    "        return self._data[self.__convert_key(key)]\n",
    "    \n",
    "    def __str__(self):\n",
    "        return json.dumps(self._data, indent=4, ensure_ascii=True)\n",
    "\n",
    "    @classmethod\n",
    "    def __convert_key(cls, key):\n",
    "        key = re.sub(r'^\\d+', '', str(key).lower()).strip()\n",
    "        return re.sub(r'\\W+', '_', key)"
   ]
  },
  {
   "cell_type": "code",
   "execution_count": 24,
   "id": "27920dbe",
   "metadata": {},
   "outputs": [
    {
     "name": "stdout",
     "output_type": "stream",
     "text": [
      "NaiveDict.__setitem__ called with key=key with space, and value=value of key with space\n",
      "value of key with space\n",
      "{\n",
      "    \"b\": 7,\n",
      "    \"key_with_space\": \"value of key with space\"\n",
      "}\n"
     ]
    }
   ],
   "source": [
    "d = NaiveDict(b=7)\n",
    "d[\"key with space\"] = \"value of key with space\"\n",
    "print(d[\"key_with_space\"])\n",
    "print(d)"
   ]
  },
  {
   "cell_type": "code",
   "execution_count": 29,
   "id": "4841ecee",
   "metadata": {},
   "outputs": [],
   "source": [
    "class InheritedDict(dict):\n",
    "    def __setitem__(self, key, value):\n",
    "        print(f\"InheritedDict.__setitem__ called with key={key}, and value={value}\")\n",
    "        super().__setitem__(self.__convert_key(key), value)\n",
    "        \n",
    "    def __getitem__(self, key):\n",
    "        return super().__getitem__(self.__convert_key(key))\n",
    "    \n",
    "    def __str__(self):\n",
    "        return json.dumps(self, indent=4, ensure_ascii=True)\n",
    "\n",
    "    @classmethod\n",
    "    def __convert_key(cls, key):\n",
    "        key = re.sub(r'^\\d+', '', str(key).lower()).strip()\n",
    "        return re.sub(r'\\W+', '_', key)"
   ]
  },
  {
   "cell_type": "code",
   "execution_count": 32,
   "id": "6abac54b",
   "metadata": {},
   "outputs": [
    {
     "name": "stdout",
     "output_type": "stream",
     "text": [
      "InheritedDict.__setitem__ called with key=key with space, and value=value of key with space\n",
      "InheritedDict.__setitem__ called with key=2 second key with digit, and value=value of key with digit\n",
      "{\n",
      "    \"b\": 7,\n",
      "    \"key_with_space\": \"value of key with space\",\n",
      "    \"1 key with digit\": \"value of key with digit\",\n",
      "    \"second_key_with_digit\": \"value of key with digit\"\n",
      "}\n"
     ]
    }
   ],
   "source": [
    "d = InheritedDict(b=7)\n",
    "d[\"key with space\"] = \"value of key with space\"\n",
    "d.update({\"1 key with digit\": \"value of key with digit\"})\n",
    "d[\"2 second key with digit\"] = \"value of key with digit\"\n",
    "print(d)"
   ]
  },
  {
   "cell_type": "raw",
   "id": "e4c6000a",
   "metadata": {},
   "source": [
    "As can be seen above when we use \"update\" method to put \"1 key with digit\" key in the dictionary\n",
    "it did not call our __setitem__. Only when we use bracket noration d[\"2 second key with digit\"] = \"value of key with digit\"\n",
    "the __setitem__ was used and when we pront the dictionary we can see that \"1 key with digit\" is present in the dictionary\n",
    "without any conversion but the second key \"2 second key with digit\" is converted to \"second_key_with_digit\"."
   ]
  },
  {
   "cell_type": "code",
   "execution_count": 39,
   "id": "ac189bfe",
   "metadata": {},
   "outputs": [],
   "source": [
    "class InheritedUserDict(UserDict):\n",
    "    def __init__(self, *args, **kwargs):\n",
    "        super().__init__(**kwargs)\n",
    "        \n",
    "    def __setitem__(self, key, value):\n",
    "        print(f\"InheritedUserDict.__setitem__ called with key={key}, and value={value}\")\n",
    "        super().__setitem__(self.__convert_key(key), value)\n",
    "\n",
    "    def __getitem__(self, key):\n",
    "        print(f\"InheritedUserDict.__getitem__ called with key={key}\")\n",
    "        return super().__getitem__(self.__convert_key(key))\n",
    "    \n",
    "    def __str__(self):\n",
    "        return json.dumps(self.data, indent=4, ensure_ascii=True)\n",
    "\n",
    "    @classmethod\n",
    "    def __convert_key(cls, key):\n",
    "        key = re.sub(r'^\\d+', '', str(key).lower()).strip()\n",
    "        return re.sub(r'\\W+', '_', key)"
   ]
  },
  {
   "cell_type": "code",
   "execution_count": 40,
   "id": "3b606775",
   "metadata": {},
   "outputs": [
    {
     "name": "stdout",
     "output_type": "stream",
     "text": [
      "InheritedUserDict.__setitem__ called with key=b, and value=7\n",
      "InheritedUserDict.__setitem__ called with key=key with space, and value=value of key with space\n",
      "InheritedUserDict.__setitem__ called with key=1 key with digit, and value=value of key with digit\n",
      "InheritedUserDict.__setitem__ called with key=2 second key with digit, and value=value of key with digit\n",
      "InheritedUserDict.__getitem__ called with key=key_with_digit\n",
      "value of key with digit\n",
      "{\n",
      "    \"b\": 7,\n",
      "    \"key_with_space\": \"value of key with space\",\n",
      "    \"key_with_digit\": \"value of key with digit\",\n",
      "    \"second_key_with_digit\": \"value of key with digit\"\n",
      "}\n"
     ]
    }
   ],
   "source": [
    "d = InheritedUserDict(b=7)\n",
    "d[\"key with space\"] = \"value of key with space\"\n",
    "d.update({\"1 key with digit\": \"value of key with digit\"})\n",
    "d[\"2 second key with digit\"] = \"value of key with digit\"\n",
    "print(d.get(\"key_with_digit\"))\n",
    "print(d)"
   ]
  },
  {
   "cell_type": "markdown",
   "id": "74a554a4",
   "metadata": {},
   "source": [
    "Now \"<b>update</b>\" method is also using our <b>__setitem__</b> method and key is always converted\n",
    "and also \"<b>get</b>\" method is using our </b>__getitem__</b>."
   ]
  },
  {
   "cell_type": "code",
   "execution_count": null,
   "id": "e551b472",
   "metadata": {},
   "outputs": [],
   "source": []
  }
 ],
 "metadata": {
  "kernelspec": {
   "display_name": "Python 3",
   "language": "python",
   "name": "python3"
  },
  "language_info": {
   "codemirror_mode": {
    "name": "ipython",
    "version": 3
   },
   "file_extension": ".py",
   "mimetype": "text/x-python",
   "name": "python",
   "nbconvert_exporter": "python",
   "pygments_lexer": "ipython3",
   "version": "3.8.2"
  }
 },
 "nbformat": 4,
 "nbformat_minor": 5
}
