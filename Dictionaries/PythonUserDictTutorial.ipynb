{
 "cells": [
  {
   "cell_type": "code",
   "execution_count": 1,
   "id": "69604b9d",
   "metadata": {},
   "outputs": [],
   "source": [
    "import re\n",
    "from collections import UserDict\n",
    "import json"
   ]
  },
  {
   "cell_type": "code",
   "execution_count": 23,
   "id": "dfaa1349",
   "metadata": {},
   "outputs": [],
   "source": [
    "class NaiveDict:\n",
    "    def __init__(self, **kwargs):\n",
    "        self._data = dict(**kwargs)\n",
    "\n",
    "    def __setitem__(self, key, value):\n",
    "        print(f\"NaiveDict.__setitem__ called with key={key}, and value={value}\")\n",
    "        self._data[self.__convert_key(key)] = value\n",
    "\n",
    "    def __getitem__(self, key):\n",
    "        return self._data[self.__convert_key(key)]\n",
    "    \n",
    "    def __str__(self):\n",
    "        return json.dumps(self._data, indent=4, ensure_ascii=True)\n",
    "\n",
    "    @classmethod\n",
    "    def __convert_key(cls, key):\n",
    "        key = re.sub(r'^\\d+', '', str(key).lower()).strip()\n",
    "        return re.sub(r'\\W+', '_', key)"
   ]
  },
  {
   "cell_type": "code",
   "execution_count": 24,
   "id": "f3c23c95",
   "metadata": {},
   "outputs": [
    {
     "name": "stdout",
     "output_type": "stream",
     "text": [
      "NaiveDict.__setitem__ called with key=key with space, and value=value of key with space\n",
      "value of key with space\n",
      "{\n",
      "    \"b\": 7,\n",
      "    \"key_with_space\": \"value of key with space\"\n",
      "}\n"
     ]
    }
   ],
   "source": [
    "d = NaiveDict(b=7)\n",
    "d[\"key with space\"] = \"value of key with space\"\n",
    "print(d[\"key_with_space\"])\n",
    "print(d)"
   ]
  },
  {
   "cell_type": "code",
   "execution_count": 29,
   "id": "0275dcac",
   "metadata": {},
   "outputs": [],
   "source": [
    "class InheritedDict(dict):\n",
    "    def __setitem__(self, key, value):\n",
    "        print(f\"InheritedDict.__setitem__ called with key={key}, and value={value}\")\n",
    "        super().__setitem__(self.__convert_key(key), value)\n",
    "        \n",
    "    def __getitem__(self, key):\n",
    "        return super().__getitem__(self.__convert_key(key))\n",
    "    \n",
    "    def __str__(self):\n",
    "        return json.dumps(self, indent=4, ensure_ascii=True)\n",
    "\n",
    "    @classmethod\n",
    "    def __convert_key(cls, key):\n",
    "        key = re.sub(r'^\\d+', '', str(key).lower()).strip()\n",
    "        return re.sub(r'\\W+', '_', key)"
   ]
  },
  {
   "cell_type": "code",
   "execution_count": 32,
   "id": "33558cbf",
   "metadata": {},
   "outputs": [
    {
     "name": "stdout",
     "output_type": "stream",
     "text": [
      "InheritedDict.__setitem__ called with key=key with space, and value=value of key with space\n",
      "InheritedDict.__setitem__ called with key=2 second key with digit, and value=value of key with digit\n",
      "{\n",
      "    \"b\": 7,\n",
      "    \"key_with_space\": \"value of key with space\",\n",
      "    \"1 key with digit\": \"value of key with digit\",\n",
      "    \"second_key_with_digit\": \"value of key with digit\"\n",
      "}\n"
     ]
    }
   ],
   "source": [
    "d = InheritedDict(b=7)\n",
    "d[\"key with space\"] = \"value of key with space\"\n",
    "d.update({\"1 key with digit\": \"value of key with digit\"})\n",
    "d[\"2 second key with digit\"] = \"value of key with digit\"\n",
    "print(d)"
   ]
  },
  {
   "cell_type": "raw",
   "id": "dce68aa8",
   "metadata": {},
   "source": [
    "As can be seen above when we use \"update\" method to put \"1 key with digit\" key in the dictionary\n",
    "it did not call our __setitem__. Only when we use bracket noration d[\"2 second key with digit\"] = \"value of key with digit\"\n",
    "the __setitem__ was used and when we pront the dictionary we can see that \"1 key with digit\" is present in the dictionary\n",
    "without any conversion but the second key \"2 second key with digit\" is converted to \"second_key_with_digit\"."
   ]
  },
  {
   "cell_type": "code",
   "execution_count": 7,
   "id": "d670d6f5",
   "metadata": {},
   "outputs": [],
   "source": [
    "class InheritedUserDict(UserDict):\n",
    "    def __init__(self, *args, **kwargs):\n",
    "        super().__init__(**kwargs)\n",
    "        \n",
    "    def __setitem__(self, key, value):\n",
    "        print(f\"InheritedUserDict.__setitem__ called with key={key}, and value={value}\")\n",
    "        super().__setitem__(self.__convert_key(key), value)\n",
    "\n",
    "    def __getitem__(self, key):\n",
    "        print(f\"InheritedUserDict.__getitem__ called with key={key}\")\n",
    "        return super().__getitem__(self.__convert_key(key))\n",
    "    \n",
    "    def __str__(self):\n",
    "        return json.dumps(self.data, indent=4, ensure_ascii=True)\n",
    "\n",
    "    @classmethod\n",
    "    def __convert_key(cls, key):\n",
    "        key = re.sub(r'^\\d+', '', str(key).lower()).strip()\n",
    "        return re.sub(r'\\W+', '_', key)"
   ]
  },
  {
   "cell_type": "code",
   "execution_count": 8,
   "id": "35cac3bf",
   "metadata": {},
   "outputs": [
    {
     "name": "stdout",
     "output_type": "stream",
     "text": [
      "InheritedUserDict.__setitem__ called with key=b, and value=7\n",
      "InheritedUserDict.__setitem__ called with key=key with space, and value=value of key with space\n",
      "InheritedUserDict.__setitem__ called with key=1 key with digit, and value=value of key with digit\n",
      "InheritedUserDict.__setitem__ called with key=2 second key with digit, and value=value of key with digit\n",
      "InheritedUserDict.__getitem__ called with key=key_with_digit\n",
      "value of key with digit\n",
      "{\n",
      "    \"b\": 7,\n",
      "    \"key_with_space\": \"value of key with space\",\n",
      "    \"key_with_digit\": \"value of key with digit\",\n",
      "    \"second_key_with_digit\": \"value of key with digit\"\n",
      "}\n"
     ]
    }
   ],
   "source": [
    "d = InheritedUserDict(b=7)\n",
    "d[\"key with space\"] = \"value of key with space\"\n",
    "d.update({\"1 key with digit\": \"value of key with digit\"})\n",
    "d[\"2 second key with digit\"] = \"value of key with digit\"\n",
    "print(d.get(\"key_with_digit\"))\n",
    "print(d)"
   ]
  },
  {
   "cell_type": "markdown",
   "id": "335fc924",
   "metadata": {},
   "source": [
    "Now \"<b>update</b>\" method is also using our <b>__setitem__</b> method and key is always converted\n",
    "and also \"<b>get</b>\" method is using our </b>__getitem__</b>."
   ]
  },
  {
   "cell_type": "code",
   "execution_count": 9,
   "id": "3c7c61b2",
   "metadata": {},
   "outputs": [
    {
     "data": {
      "text/plain": [
       "mappingproxy({'__module__': 'collections',\n",
       "              '__init__': <function collections.UserDict.__init__(self, dict=None, /, **kwargs)>,\n",
       "              '__len__': <function collections.UserDict.__len__(self)>,\n",
       "              '__getitem__': <function collections.UserDict.__getitem__(self, key)>,\n",
       "              '__setitem__': <function collections.UserDict.__setitem__(self, key, item)>,\n",
       "              '__delitem__': <function collections.UserDict.__delitem__(self, key)>,\n",
       "              '__iter__': <function collections.UserDict.__iter__(self)>,\n",
       "              '__contains__': <function collections.UserDict.__contains__(self, key)>,\n",
       "              '__repr__': <function collections.UserDict.__repr__(self)>,\n",
       "              '__copy__': <function collections.UserDict.__copy__(self)>,\n",
       "              'copy': <function collections.UserDict.copy(self)>,\n",
       "              'fromkeys': <classmethod at 0x25c203fdc40>,\n",
       "              '__dict__': <attribute '__dict__' of 'UserDict' objects>,\n",
       "              '__weakref__': <attribute '__weakref__' of 'UserDict' objects>,\n",
       "              '__doc__': None,\n",
       "              '__abstractmethods__': frozenset(),\n",
       "              '_abc_impl': <_abc_data at 0x25c203fdc00>})"
      ]
     },
     "execution_count": 9,
     "metadata": {},
     "output_type": "execute_result"
    }
   ],
   "source": [
    "UserDict.__dict__"
   ]
  },
  {
   "cell_type": "code",
   "execution_count": 10,
   "id": "d634047b",
   "metadata": {},
   "outputs": [
    {
     "name": "stdout",
     "output_type": "stream",
     "text": [
      "Help on class UserDict in module collections:\n",
      "\n",
      "class UserDict(collections.abc.MutableMapping)\n",
      " |  UserDict(dict=None, /, **kwargs)\n",
      " |  \n",
      " |  Method resolution order:\n",
      " |      UserDict\n",
      " |      collections.abc.MutableMapping\n",
      " |      collections.abc.Mapping\n",
      " |      collections.abc.Collection\n",
      " |      collections.abc.Sized\n",
      " |      collections.abc.Iterable\n",
      " |      collections.abc.Container\n",
      " |      builtins.object\n",
      " |  \n",
      " |  Methods defined here:\n",
      " |  \n",
      " |  __contains__(self, key)\n",
      " |      # Modify __contains__ to work correctly when __missing__ is present\n",
      " |  \n",
      " |  __copy__(self)\n",
      " |  \n",
      " |  __delitem__(self, key)\n",
      " |  \n",
      " |  __getitem__(self, key)\n",
      " |  \n",
      " |  __init__(self, dict=None, /, **kwargs)\n",
      " |      Initialize self.  See help(type(self)) for accurate signature.\n",
      " |  \n",
      " |  __iter__(self)\n",
      " |  \n",
      " |  __len__(self)\n",
      " |  \n",
      " |  __repr__(self)\n",
      " |      Return repr(self).\n",
      " |  \n",
      " |  __setitem__(self, key, item)\n",
      " |  \n",
      " |  copy(self)\n",
      " |  \n",
      " |  ----------------------------------------------------------------------\n",
      " |  Class methods defined here:\n",
      " |  \n",
      " |  fromkeys(iterable, value=None) from abc.ABCMeta\n",
      " |  \n",
      " |  ----------------------------------------------------------------------\n",
      " |  Data descriptors defined here:\n",
      " |  \n",
      " |  __dict__\n",
      " |      dictionary for instance variables (if defined)\n",
      " |  \n",
      " |  __weakref__\n",
      " |      list of weak references to the object (if defined)\n",
      " |  \n",
      " |  ----------------------------------------------------------------------\n",
      " |  Data and other attributes defined here:\n",
      " |  \n",
      " |  __abstractmethods__ = frozenset()\n",
      " |  \n",
      " |  ----------------------------------------------------------------------\n",
      " |  Methods inherited from collections.abc.MutableMapping:\n",
      " |  \n",
      " |  clear(self)\n",
      " |      D.clear() -> None.  Remove all items from D.\n",
      " |  \n",
      " |  pop(self, key, default=<object object at 0x0000025C20044130>)\n",
      " |      D.pop(k[,d]) -> v, remove specified key and return the corresponding value.\n",
      " |      If key is not found, d is returned if given, otherwise KeyError is raised.\n",
      " |  \n",
      " |  popitem(self)\n",
      " |      D.popitem() -> (k, v), remove and return some (key, value) pair\n",
      " |      as a 2-tuple; but raise KeyError if D is empty.\n",
      " |  \n",
      " |  setdefault(self, key, default=None)\n",
      " |      D.setdefault(k[,d]) -> D.get(k,d), also set D[k]=d if k not in D\n",
      " |  \n",
      " |  update(self, other=(), /, **kwds)\n",
      " |      D.update([E, ]**F) -> None.  Update D from mapping/iterable E and F.\n",
      " |      If E present and has a .keys() method, does:     for k in E: D[k] = E[k]\n",
      " |      If E present and lacks .keys() method, does:     for (k, v) in E: D[k] = v\n",
      " |      In either case, this is followed by: for k, v in F.items(): D[k] = v\n",
      " |  \n",
      " |  ----------------------------------------------------------------------\n",
      " |  Methods inherited from collections.abc.Mapping:\n",
      " |  \n",
      " |  __eq__(self, other)\n",
      " |      Return self==value.\n",
      " |  \n",
      " |  get(self, key, default=None)\n",
      " |      D.get(k[,d]) -> D[k] if k in D, else d.  d defaults to None.\n",
      " |  \n",
      " |  items(self)\n",
      " |      D.items() -> a set-like object providing a view on D's items\n",
      " |  \n",
      " |  keys(self)\n",
      " |      D.keys() -> a set-like object providing a view on D's keys\n",
      " |  \n",
      " |  values(self)\n",
      " |      D.values() -> an object providing a view on D's values\n",
      " |  \n",
      " |  ----------------------------------------------------------------------\n",
      " |  Data and other attributes inherited from collections.abc.Mapping:\n",
      " |  \n",
      " |  __hash__ = None\n",
      " |  \n",
      " |  __reversed__ = None\n",
      " |  \n",
      " |  ----------------------------------------------------------------------\n",
      " |  Class methods inherited from collections.abc.Collection:\n",
      " |  \n",
      " |  __subclasshook__(C) from abc.ABCMeta\n",
      " |      Abstract classes can override this to customize issubclass().\n",
      " |      \n",
      " |      This is invoked early on by abc.ABCMeta.__subclasscheck__().\n",
      " |      It should return True, False or NotImplemented.  If it returns\n",
      " |      NotImplemented, the normal algorithm is used.  Otherwise, it\n",
      " |      overrides the normal algorithm (and the outcome is cached).\n",
      "\n"
     ]
    }
   ],
   "source": [
    "help(UserDict)"
   ]
  },
  {
   "cell_type": "code",
   "execution_count": null,
   "id": "d4152d85",
   "metadata": {},
   "outputs": [],
   "source": []
  }
 ],
 "metadata": {
  "kernelspec": {
   "display_name": "Python 3",
   "language": "python",
   "name": "python3"
  },
  "language_info": {
   "codemirror_mode": {
    "name": "ipython",
    "version": 3
   },
   "file_extension": ".py",
   "mimetype": "text/x-python",
   "name": "python",
   "nbconvert_exporter": "python",
   "pygments_lexer": "ipython3",
   "version": "3.8.2"
  }
 },
 "nbformat": 4,
 "nbformat_minor": 5
}
