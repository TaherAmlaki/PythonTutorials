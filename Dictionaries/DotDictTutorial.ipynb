{
 "cells": [
  {
   "cell_type": "raw",
   "id": "a2f5e5bd",
   "metadata": {},
   "source": [
    "We can use UserDict to intercept/modify setting or getting attributes to a dictionary\n",
    "Now We want to add more easy of use or behavior, and that is to override \".\" dot operator\n",
    "This should affect setting a new item or getting a value by using a key\n",
    "for example:\n",
    "    d={\"k1\": \"v1\"}\n",
    "    d.k1 = v1 (getting the item)\n",
    "    d.k2 = \"v2\" (setting a new item)\n",
    "    d => {\"k1\": \"v1\", \"k2\": \"v2\"} (__str__ of d, not neccessarily d itself)"
   ]
  },
  {
   "cell_type": "code",
   "execution_count": 28,
   "id": "b7300032",
   "metadata": {},
   "outputs": [],
   "source": [
    "from collections.abc import MutableMapping, Mapping\n",
    "import re\n",
    "import json\n",
    "\n",
    "\n",
    "class DotDict(MutableMapping):\n",
    "    def __init__(self, *args, **kwargs):\n",
    "        self.__data = kwargs\n",
    "        self.update(**kwargs)\n",
    "\n",
    "        for arg in args:\n",
    "            self.__data[arg] = None\n",
    "            setattr(self, arg, None)\n",
    "\n",
    "    def __getitem__(self, key):\n",
    "        try:\n",
    "            return getattr(self, self.__convert_key(key))\n",
    "        except AttributeError:\n",
    "            raise KeyError(key)\n",
    "\n",
    "    def __setattr__(self, prop: str, value):\n",
    "        if prop == \"_DotDict__data\":\n",
    "            super().__setattr__(prop, value)\n",
    "        else:\n",
    "            if isinstance(value, (list, tuple)):\n",
    "                prop_obj = self.create_prop_obj_for_list_recursively(value)\n",
    "            elif isinstance(value, Mapping):\n",
    "                prop_obj = DotDict(**value)\n",
    "            else:\n",
    "                prop_obj = value\n",
    "            super().__setattr__(prop, prop_obj)\n",
    "            self.__data[prop] = value\n",
    "\n",
    "    def __setitem__(self, key, value):\n",
    "        print(f\"__setitem__ called with {key} and {value}\")\n",
    "        setattr(self, self.__convert_key(key), value)\n",
    "\n",
    "    def __delitem__(self, key):\n",
    "        del self.__data[self.__convert_key(key)]\n",
    "        del self.__dict__[self.__convert_key(key)]\n",
    "\n",
    "    def __iter__(self):\n",
    "        iterator = iter(self.__dict__)\n",
    "        next(iterator)  # first key is _DotDict__data, so should not be in view\n",
    "        return iterator\n",
    "\n",
    "    def __len__(self):\n",
    "        return len(self.__data)\n",
    "\n",
    "    def __str__(self):\n",
    "        return json.dumps(self.to_dict(), indent=4)\n",
    "\n",
    "    def to_dict(self):\n",
    "        self.__data = {prop: self.call_to_dict_recursively(value) for prop, value in self.items()}\n",
    "        return self.__data\n",
    "\n",
    "    @classmethod\n",
    "    def __convert_key(cls, key):\n",
    "        key = re.sub(r'^\\d+', '', str(key)).strip()\n",
    "        return re.sub(r'\\W+', '_', key)\n",
    "\n",
    "    @classmethod\n",
    "    def create_prop_obj_for_list_recursively(cls, value):\n",
    "        # this method could be static, I just don't like static methods in Python\n",
    "        if isinstance(value, (list, tuple)):\n",
    "            prop_obj = []\n",
    "            for v in value:\n",
    "                prop_obj.append(cls.create_prop_obj_for_list_recursively(v))\n",
    "        elif isinstance(value, Mapping):\n",
    "            prop_obj = cls(**value)\n",
    "        else:\n",
    "            prop_obj = value\n",
    "        return prop_obj\n",
    "\n",
    "    @classmethod\n",
    "    def call_to_dict_recursively(cls, value):\n",
    "        if isinstance(value, cls):\n",
    "            return value.to_dict()\n",
    "        elif isinstance(value, (list, tuple)):\n",
    "            result = []\n",
    "            for v in value:\n",
    "                result.append(cls.call_to_dict_recursively(v))\n",
    "            return result\n",
    "        else:\n",
    "            return value\n"
   ]
  },
  {
   "cell_type": "code",
   "execution_count": 29,
   "id": "85f911ac",
   "metadata": {},
   "outputs": [
    {
     "name": "stdout",
     "output_type": "stream",
     "text": [
      "__setitem__ called with k1 and v1\n",
      "__setitem__ called with key with space and {'nestedKey1': 'nestedValue1'}\n",
      "__setitem__ called with nestedKey1 and nestedValue1\n",
      "__setitem__ called with nestedDotKey and nestedDotValue\n",
      "__setitem__ called with nestedDotKey and nestedDotValue\n",
      "d.key_with_space.nestedKey1 =>  nestedValue1\n",
      "{\n",
      "    \"k1\": \"v1\",\n",
      "    \"k2\": \"new value 2\",\n",
      "    \"key_with_space\": {\n",
      "        \"nestedKey1\": \"nestedValue1\"\n",
      "    },\n",
      "    \"dotkey\": {\n",
      "        \"nestedDotKey\": \"nestedDotValue\"\n",
      "    }\n",
      "}\n"
     ]
    }
   ],
   "source": [
    "d = DotDict(k1=\"v1\")\n",
    "d.k2 = \"new value 2\"\n",
    "d[\"key with space\"] = {\"nestedKey1\": \"nestedValue1\"}\n",
    "d.dotkey = DotDict(nestedDotKey=\"nestedDotValue\")\n",
    "print(\"d.key_with_space.nestedKey1 => \", d.key_with_space.nestedKey1)\n",
    "print(d)"
   ]
  },
  {
   "cell_type": "code",
   "execution_count": 30,
   "id": "b5d87fe0",
   "metadata": {},
   "outputs": [
    {
     "name": "stdout",
     "output_type": "stream",
     "text": [
      "__setitem__ called with nk2 and ['nk3', 'nk4', {'nk5': 'nv5'}]\n",
      "__setitem__ called with nk5 and nv5\n",
      "nv5\n"
     ]
    }
   ],
   "source": [
    "# How to create nested data and access list objects\n",
    "d.dotkey.newNestedKey = [\"nk1\", {\"nk2\": [\"nk3\", \"nk4\", {\"nk5\": \"nv5\"}]}]\n",
    "print(d.dotkey.newNestedKey[1].nk2[2].nk5)"
   ]
  },
  {
   "cell_type": "code",
   "execution_count": 31,
   "id": "3316be8d",
   "metadata": {},
   "outputs": [
    {
     "name": "stdout",
     "output_type": "stream",
     "text": [
      "{\n",
      "    \"k1\": \"v1\",\n",
      "    \"k2\": \"new value 2\",\n",
      "    \"key_with_space\": {\n",
      "        \"nestedKey1\": \"nestedValue1\"\n",
      "    },\n",
      "    \"dotkey\": {\n",
      "        \"nestedDotKey\": \"nestedDotValue\",\n",
      "        \"newNestedKey\": [\n",
      "            \"nk1\",\n",
      "            {\n",
      "                \"nk2\": [\n",
      "                    \"nk3\",\n",
      "                    \"nk4\",\n",
      "                    {\n",
      "                        \"nk5\": \"nv5\"\n",
      "                    }\n",
      "                ]\n",
      "            }\n",
      "        ]\n",
      "    }\n",
      "}\n"
     ]
    }
   ],
   "source": [
    "print(d)"
   ]
  },
  {
   "cell_type": "code",
   "execution_count": null,
   "id": "f04b9b17",
   "metadata": {},
   "outputs": [],
   "source": []
  }
 ],
 "metadata": {
  "kernelspec": {
   "display_name": "Python 3",
   "language": "python",
   "name": "python3"
  },
  "language_info": {
   "codemirror_mode": {
    "name": "ipython",
    "version": 3
   },
   "file_extension": ".py",
   "mimetype": "text/x-python",
   "name": "python",
   "nbconvert_exporter": "python",
   "pygments_lexer": "ipython3",
   "version": "3.8.2"
  }
 },
 "nbformat": 4,
 "nbformat_minor": 5
}
